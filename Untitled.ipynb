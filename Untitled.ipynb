{
 "cells": [
  {
   "cell_type": "code",
   "execution_count": 3,
   "metadata": {},
   "outputs": [],
   "source": [
    "from __future__ import print_function\n",
    "from os.path import isfile\n",
    "import json as js\n",
    "import cv2 as cv2\n",
    "import random\n",
    "import sys"
   ]
  },
  {
   "cell_type": "code",
   "execution_count": 5,
   "metadata": {},
   "outputs": [],
   "source": [
    "import xml.etree.ElementTree as ET\n",
    "import pandas as pd\n",
    "import numpy as np\n",
    "import os\n",
    "import glob\n",
    "from shutil import copyfile\n",
    "import string\n",
    "import random"
   ]
  },
  {
   "cell_type": "code",
   "execution_count": 13,
   "metadata": {},
   "outputs": [],
   "source": [
    "label_white_list = {'33','34','39','35','36','37','38','81'} # Change this to anything you like. Use http://apolloscape.auto/scene.html\n",
    "make_additional_zeros = False\n",
    "blackilist_to_other_label_chance = 50 ;   # Percentage\n",
    "source_dir_root = '/home/sahand/sample xml/baidu'\n",
    "output_dir_root = '/home/sahand/sample xml/baidu_rework'\n",
    "expected_network_input_size = [300,300];\n",
    "display_progress = True"
   ]
  },
  {
   "cell_type": "code",
   "execution_count": 14,
   "metadata": {},
   "outputs": [],
   "source": [
    "if not os.path.exists(source_dir_root):\n",
    "    sys.exit(\"Invalid source directory! Breaking...\")\n",
    "\n",
    "if not os.path.exists(output_dir_root):\n",
    "                os.makedirs(output_dir_root)"
   ]
  },
  {
   "cell_type": "code",
   "execution_count": 15,
   "metadata": {},
   "outputs": [
    {
     "name": "stdout",
     "output_type": "stream",
     "text": [
      "/home/sahand/sample xml/baidu/000005.xml\n",
      "chair is black listed\n",
      "chair is black listed\n",
      "chair is black listed\n",
      "chair is black listed\n",
      "chair is black listed\n",
      "/home/sahand/sample xml/baidu/000007.xml\n",
      "car is black listed\n"
     ]
    }
   ],
   "source": [
    "for root, dirs, files in os.walk(source_dir_root):\n",
    "    for file in files:\n",
    "        if file.endswith(\".xml\"):\n",
    "            file_path = os.path.join(root, file)\n",
    "            if display_progress == True:\n",
    "                print(file_path)\n",
    "            # =============================================================================\n",
    "            # Read and parse JSON\n",
    "            # =============================================================================    \n",
    "            tree = ET.parse(file_path)\n",
    "            eroot = tree.getroot()\n",
    "            eroot_original = eroot.copy()\n",
    "            for child in eroot_original:\n",
    "                if child.tag == \"object\":\n",
    "                    if child._children[0].text in label_white_list:\n",
    "#                        This class is white listed\n",
    "                        print(child._children[0].text+\" is white listed\")\n",
    "                    else:\n",
    "#                        Thisclass is not white listed and this child will be removed\n",
    "                        print(child._children[0].text+\" is black listed\")\n",
    "                        eroot.remove(child)\n",
    "                        \n",
    "            # =============================================================================\n",
    "            # Save output to file            \n",
    "            # =============================================================================\n",
    "            output_xml = ET.tostring(eroot, encoding='utf8').decode('utf8')\n",
    "            with open(os.path.join(output_dir_root, file), \"w+\") as f1:\n",
    "                f1.write(output_xml)"
   ]
  },
  {
   "cell_type": "code",
   "execution_count": null,
   "metadata": {},
   "outputs": [],
   "source": []
  }
 ],
 "metadata": {
  "kernelspec": {
   "display_name": "Python 2",
   "language": "python",
   "name": "python2"
  },
  "language_info": {
   "codemirror_mode": {
    "name": "ipython",
    "version": 2
   },
   "file_extension": ".py",
   "mimetype": "text/x-python",
   "name": "python",
   "nbconvert_exporter": "python",
   "pygments_lexer": "ipython2",
   "version": "2.7.15"
  }
 },
 "nbformat": 4,
 "nbformat_minor": 2
}
